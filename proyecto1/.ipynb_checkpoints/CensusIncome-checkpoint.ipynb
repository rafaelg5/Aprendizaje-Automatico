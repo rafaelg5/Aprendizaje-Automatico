{
 "cells": [
  {
   "cell_type": "markdown",
   "metadata": {},
   "source": [
    "# Obtener los datos"
   ]
  },
  {
   "cell_type": "code",
   "execution_count": 1,
   "metadata": {},
   "outputs": [],
   "source": [
    "import pandas as pd\n",
    "\n",
    "\"\"\"\n",
    "Leer datos de entrada\n",
    "\"\"\"\n",
    "\n",
    "# Definir las categorías del dataset\n",
    "categories = ['age', 'workclass', 'fnlwgt', 'education', 'education-num', 'marital-status', 'occupation', \n",
    "              'relationship', 'race', 'sex', 'capital-gain', 'capital-loss', 'hours-per-week', 'native-country',\n",
    "             'target']\n",
    "\n",
    "# Definir el dataset con sus categorías\n",
    "adult_data = pd.read_csv('https://archive.ics.uci.edu/ml/machine-learning-databases/adult/adult.data', \n",
    "                         names=categories)\n",
    "\n",
    "# Definir el conunto de prueba con sus categorías\n",
    "adult_test = pd.read_csv('https://archive.ics.uci.edu/ml/machine-learning-databases/adult/adult.test', \n",
    "                         names=categories)\n",
    "adult_test.drop(adult_test.index[0], inplace=True)"
   ]
  },
  {
   "cell_type": "markdown",
   "metadata": {},
   "source": [
    "# Codificar valores no continuos"
   ]
  },
  {
   "cell_type": "code",
   "execution_count": 2,
   "metadata": {},
   "outputs": [],
   "source": [
    "from sklearn.preprocessing import LabelEncoder\n",
    "from collections import defaultdict\n",
    "\n",
    "# Atributos que no son continuos\n",
    "labels = ['workclass', 'education', 'marital-status', 'occupation', 'relationship', 'race', 'sex', \n",
    "          'native-country', 'target']\n",
    "\n",
    "# Utilizamos LabelEncoder para codificar\n",
    "d1 = defaultdict(LabelEncoder)\n",
    "d2 = defaultdict(LabelEncoder)\n",
    "# Codificar los valores, solo si no son continuos\n",
    "adult_data = adult_data.apply(lambda x: d1[x.name].fit_transform(x) if x.name in labels else x)\n",
    "adult_test = adult_test.apply(lambda x: d2[x.name].fit_transform(x) if x.name in labels else x)"
   ]
  },
  {
   "cell_type": "markdown",
   "metadata": {},
   "source": [
    "# Separar los datos en [X, y]"
   ]
  },
  {
   "cell_type": "code",
   "execution_count": 3,
   "metadata": {},
   "outputs": [],
   "source": [
    "X_train = adult_data.drop('target', 1)\n",
    "y_train = adult_data.target\n",
    "\n",
    "X_test = adult_test.drop('target', 1)\n",
    "y_test = adult_test.target"
   ]
  },
  {
   "cell_type": "markdown",
   "metadata": {},
   "source": [
    "# Elegir el mejor clasificador"
   ]
  },
  {
   "cell_type": "code",
   "execution_count": 4,
   "metadata": {},
   "outputs": [],
   "source": [
    "from sklearn.naive_bayes import GaussianNB\n",
    "from sklearn.naive_bayes import MultinomialNB\n",
    "from sklearn.linear_model import LogisticRegression\n",
    "import sklearn.metrics as skm\n",
    "\n",
    "gnb = GaussianNB()\n",
    "mnb = MultinomialNB()\n",
    "lr = LogisticRegression()\n",
    "\n",
    "models = [gnb, mnb, lr]\n",
    "\n",
    "# Naive Bayes Gaussiano\n",
    "model = models[0].fit(X_train, y_train)\n",
    "preds = models[0].predict(X_test)\n",
    "f1_gnb = skm.f1_score(y_test, preds, average='weighted')\n",
    "\n",
    "# Naive Bayes Multinomial\n",
    "model = models[1].fit(X_train, y_train)\n",
    "preds = models[1].predict(X_test)\n",
    "f1_mnb = skm.f1_score(y_test, preds, average='weighted')\n",
    "\n",
    "# Regresión Logística\n",
    "model = models[2].fit(X_train, y_train)\n",
    "preds = models[2].predict(X_test)\n",
    "f1_lr = skm.f1_score(y_test, preds, average='weighted')\n",
    "\n",
    "# Puntuaciones F1 de cada clasificador\n",
    "# Generalmente F1 es más útil que la precisión, especialmente con una distribución de clases desigual.\n",
    "f1_scores = [f1_gnb, f1_mnb, f1_lr]\n",
    "\n",
    "max_v = 0\n",
    "index = 0\n",
    "for i, val in enumerate(f1_scores):\n",
    "    if val > max_v:\n",
    "        max_v = val\n",
    "        index = i\n",
    "\n",
    "# Elegimos al mejor modelo al que tiene mayor puntuación F1\n",
    "model = models[index]"
   ]
  },
  {
   "cell_type": "markdown",
   "metadata": {},
   "source": [
    "# Entrenar clasificador y reportar resultados"
   ]
  },
  {
   "cell_type": "code",
   "execution_count": 5,
   "metadata": {},
   "outputs": [
    {
     "name": "stdout",
     "output_type": "stream",
     "text": [
      "             precision    recall  f1-score   support\n",
      "\n",
      "      <=50K       0.81      0.95      0.88     12435\n",
      "       >50K       0.65      0.29      0.40      3846\n",
      "\n",
      "avg / total       0.77      0.80      0.76     16281\n",
      "\n"
     ]
    }
   ],
   "source": [
    "model.fit(X_train, y_train)\n",
    "predictions = model.predict(X_test)\n",
    "\n",
    "# Reporte de resultados\n",
    "print(skm.classification_report(y_test, preds, target_names=['<=50K', '>50K']))"
   ]
  }
 ],
 "metadata": {
  "kernelspec": {
   "display_name": "Python 3",
   "language": "python",
   "name": "python3"
  },
  "language_info": {
   "codemirror_mode": {
    "name": "ipython",
    "version": 3
   },
   "file_extension": ".py",
   "mimetype": "text/x-python",
   "name": "python",
   "nbconvert_exporter": "python",
   "pygments_lexer": "ipython3",
   "version": "3.6.2"
  }
 },
 "nbformat": 4,
 "nbformat_minor": 2
}
